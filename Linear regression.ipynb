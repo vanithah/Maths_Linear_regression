{
 "cells": [
  {
   "cell_type": "markdown",
   "metadata": {},
   "source": [
    "## Developing Linear regression model mathematically"
   ]
  },
  {
   "cell_type": "code",
   "execution_count": 2,
   "metadata": {},
   "outputs": [],
   "source": [
    "import numpy as np\n",
    "import pandas as pd\n",
    "from matplotlib import pyplot as plt"
   ]
  },
  {
   "cell_type": "code",
   "execution_count": 23,
   "metadata": {},
   "outputs": [
    {
     "name": "stdout",
     "output_type": "stream",
     "text": [
      "2.361139369277721\n",
      "17.743784333672437\n",
      "3.7\n",
      "26.480000000000004\n",
      "39.32\n"
     ]
    }
   ],
   "source": [
    "x=np.array([3.4, 1.8, 4.6, 2.3, 3.1, 5.5, 7.0, 3.0, 2.6, 4.3, 2.1, 1.1, 6.1, 4.8, 3.8])\n",
    "y=np.array([26.2, 17.8, 31.3, 23.1, 27.5, 36.0, 14.1, 23.3, 19.6, 31.3, 24.0, 17.3,43.2, 36.4, 26.1])\n",
    "n=len(x)\n",
    "x_mean=0\n",
    "y_mean=0\n",
    "for i in range(0,n):\n",
    "    x_mean=x_mean+x[i]\n",
    "    y_mean=y_mean+y[i]\n",
    "x_mean=x_mean/n\n",
    "y_mean=y_mean/n\n",
    "numerator=0\n",
    "dinom=0\n",
    "for i in range(0,n):\n",
    "    numerator=(x[i]-x_mean)*(y[i]-y_mean)+numerator\n",
    "    dinom=dinom+ ((x[i]-x_mean)*(x[i]-x_mean))\n",
    "b=numerator/dinom\n",
    "a=y_mean-(b*x_mean)\n",
    "print(b)\n",
    "print(a)\n",
    "print(x_mean)\n",
    "print(y_mean)\n",
    "print(dinom)"
   ]
  },
  {
   "cell_type": "code",
   "execution_count": 5,
   "metadata": {},
   "outputs": [
    {
     "data": {
      "text/plain": [
       "15"
      ]
     },
     "execution_count": 5,
     "metadata": {},
     "output_type": "execute_result"
    }
   ],
   "source": [
    "len(y)"
   ]
  },
  {
   "cell_type": "code",
   "execution_count": 10,
   "metadata": {},
   "outputs": [
    {
     "data": {
      "text/plain": [
       "<matplotlib.collections.PathCollection at 0x2a9acba5b08>"
      ]
     },
     "execution_count": 10,
     "metadata": {},
     "output_type": "execute_result"
    },
    {
     "data": {
      "image/png": "[encoded data removed]",
      "text/plain": [
       "<Figure size 432x288 with 1 Axes>"
      ]
     },
     "metadata": {
      "needs_background": "light"
     },
     "output_type": "display_data"
    }
   ],
   "source": [
    "plt.scatter(x,y)"
   ]
  },
  {
   "cell_type": "code",
   "execution_count": 6,
   "metadata": {},
   "outputs": [
    {
     "name": "stdout",
     "output_type": "stream",
     "text": [
      "[25.77165819 21.9938352  28.60502543 23.17440488 25.06331638 30.73005086\n",
      " 34.27175992 24.82720244 23.88274669 27.89668362 22.70217701 20.34103764\n",
      " 32.14673449 29.07725331 26.71611394]\n"
     ]
    }
   ],
   "source": [
    "#y cap\n",
    "y_pred=a+(b * x)      # fitting the model\n",
    "print(y_pred)\n"
   ]
  },
  {
   "cell_type": "code",
   "execution_count": 8,
   "metadata": {},
   "outputs": [
    {
     "name": "stdout",
     "output_type": "stream",
     "text": [
      "0.07840000000000262\n",
      "75.34240000000005\n",
      "23.23239999999997\n",
      "11.424400000000018\n",
      "1.0403999999999918\n",
      "90.63039999999992\n",
      "153.2644000000001\n",
      "10.11240000000002\n",
      "47.33440000000004\n",
      "23.23239999999997\n",
      "6.15040000000002\n",
      "84.27240000000006\n",
      "279.55839999999995\n",
      "98.40639999999989\n",
      "0.14440000000000194\n"
     ]
    },
    {
     "data": {
      "text/plain": [
       "904.224"
      ]
     },
     "execution_count": 8,
     "metadata": {},
     "output_type": "execute_result"
    }
   ],
   "source": [
    "#error                                        # mean error\n",
    "made=0\n",
    "for i in range(0,n):\n",
    "    print(((y[i]-y_mean)*(y[i]-y_mean)))\n",
    "    made += ((y[i]-y_mean)*(y[i]-y_mean))\n",
    "made"
   ]
  },
  {
   "cell_type": "code",
   "execution_count": 10,
   "metadata": {},
   "outputs": [
    {
     "name": "stdout",
     "output_type": "stream",
     "text": [
      "0.18347670686512677\n",
      "17.58825367110671\n",
      "7.262887920280554\n",
      "0.00553608661590951\n",
      "5.937427071611066\n",
      "27.772363888650258\n",
      "406.89989821430237\n",
      "2.3323472973406574\n",
      "18.341919243207816\n",
      "11.582562371712783\n",
      "1.6843445155641708\n",
      "9.247909927154339\n",
      "122.17467851708966\n",
      "53.622619141478275\n",
      "0.3795963832766421\n"
     ]
    },
    {
     "data": {
      "text/plain": [
       "685.0158209562563"
      ]
     },
     "execution_count": 10,
     "metadata": {},
     "output_type": "execute_result"
    }
   ],
   "source": [
    "                                                  # error from predicted values\n",
    "sse=0\n",
    "for i in range(0,n):\n",
    "    print(((y[i]-y_pred[i])*(y[i]-y_pred[i])))\n",
    "    sse += ((y[i]-y_pred[i])*(y[i]-y_pred[i]))\n",
    "sse"
   ]
  },
  {
   "cell_type": "code",
   "execution_count": 21,
   "metadata": {},
   "outputs": [
    {
     "name": "stdout",
     "output_type": "stream",
     "text": [
      "219.2081790437437\n",
      "0.24242685335021377\n",
      "0.4923686153180499\n"
     ]
    }
   ],
   "source": [
    "import math\n",
    "ssr= made-sse\n",
    "explained_variance = ssr/made  \n",
    "print(ssr)\n",
    "print(explained_variance)\n",
    "print(math.sqrt(explained_variance) )        # correlation cefficient"
   ]
  },
  {
   "cell_type": "code",
   "execution_count": 12,
   "metadata": {},
   "outputs": [
    {
     "data": {
      "text/html": [
       "<div>\n",
       "<style scoped>\n",
       "    .dataframe tbody tr th:only-of-type {\n",
       "        vertical-align: middle;\n",
       "    }\n",
       "\n",
       "    .dataframe tbody tr th {\n",
       "        vertical-align: top;\n",
       "    }\n",
       "\n",
       "    .dataframe thead th {\n",
       "        text-align: right;\n",
       "    }\n",
       "</style>\n",
       "<table border=\"1\" class=\"dataframe\">\n",
       "  <thead>\n",
       "    <tr style=\"text-align: right;\">\n",
       "      <th></th>\n",
       "      <th>index</th>\n",
       "      <th>0</th>\n",
       "    </tr>\n",
       "  </thead>\n",
       "  <tbody>\n",
       "    <tr>\n",
       "      <td>index</td>\n",
       "      <td>1.000000</td>\n",
       "      <td>0.492369</td>\n",
       "    </tr>\n",
       "    <tr>\n",
       "      <td>0</td>\n",
       "      <td>0.492369</td>\n",
       "      <td>1.000000</td>\n",
       "    </tr>\n",
       "  </tbody>\n",
       "</table>\n",
       "</div>"
      ],
      "text/plain": [
       "          index         0\n",
       "index  1.000000  0.492369\n",
       "0      0.492369  1.000000"
      ]
     },
     "execution_count": 12,
     "metadata": {},
     "output_type": "execute_result"
    }
   ],
   "source": [
    "s=pd.DataFrame(x,y).reset_index()\n",
    "s.corr()"
   ]
  },
  {
   "cell_type": "code",
   "execution_count": 22,
   "metadata": {},
   "outputs": [
    {
     "data": {
      "text/plain": [
       "<matplotlib.legend.Legend at 0x24e01405fc8>"
      ]
     },
     "execution_count": 22,
     "metadata": {},
     "output_type": "execute_result"
    },
    {
     "data": {
      "image/png": "[encoded data removed]",
      "text/plain": [
       "<Figure size 432x288 with 1 Axes>"
      ]
     },
     "metadata": {
      "needs_background": "light"
     },
     "output_type": "display_data"
    }
   ],
   "source": [
    "plt.scatter(x,y,color='red',label='Actual values')\n",
    "plt.plot(x,y_pred,label='predicted values')\n",
    "plt.xlabel('number of hours')\n",
    "plt.ylabel('marks scored')\n",
    "plt.legend()"
   ]
  },
  {
   "cell_type": "code",
   "execution_count": 46,
   "metadata": {},
   "outputs": [
    {
     "data": {
      "text/plain": [
       "<matplotlib.legend.Legend at 0x2a9aebb1888>"
      ]
     },
     "execution_count": 46,
     "metadata": {},
     "output_type": "execute_result"
    },
    {
     "data": {
      "image/png": "[encoded data removed]",
      "text/plain": [
       "<Figure size 432x288 with 1 Axes>"
      ]
     },
     "metadata": {
      "needs_background": "light"
     },
     "output_type": "display_data"
    }
   ],
   "source": [
    "plt.scatter(x,y,color='red',label='Actual values')\n",
    "plt.scatter(x,y_pred,color='blue',label='predicted values')\n",
    "plt.xlabel('number of hours')\n",
    "plt.ylabel('marks scored')\n",
    "plt.legend()"
   ]
  },
  {
   "cell_type": "code",
   "execution_count": 13,
   "metadata": {},
   "outputs": [
    {
     "name": "stdout",
     "output_type": "stream",
     "text": [
      "[  0.42834181  -4.1938352    2.69497457  -0.07440488   2.43668362\n",
      "   5.26994914 -20.17175992  -1.52720244  -4.28274669   3.40331638\n",
      "   1.29782299  -3.04103764  11.05326551   7.32274669  -0.61611394]\n"
     ]
    }
   ],
   "source": [
    "#residue:\n",
    "r=y-y_pred\n",
    "print(r)"
   ]
  },
  {
   "cell_type": "code",
   "execution_count": 14,
   "metadata": {},
   "outputs": [
    {
     "name": "stdout",
     "output_type": "stream",
     "text": [
      "67.81420142421157\n"
     ]
    }
   ],
   "source": [
    "print(sum(abs(r)))                  #some of residue error-- absolute value"
   ]
  },
  {
   "cell_type": "code",
   "execution_count": 15,
   "metadata": {},
   "outputs": [
    {
     "data": {
      "text/plain": [
       "6.757789682809295"
      ]
     },
     "execution_count": 15,
     "metadata": {},
     "output_type": "execute_result"
    }
   ],
   "source": [
    "rmse=np.sqrt(sum(r**2)/n)             #root mean square error\n",
    "rmse"
   ]
  },
  {
   "cell_type": "code",
   "execution_count": 58,
   "metadata": {},
   "outputs": [
    {
     "data": {
      "text/plain": [
       "[<matplotlib.lines.Line2D at 0x2a9aed30c48>]"
      ]
     },
     "execution_count": 58,
     "metadata": {},
     "output_type": "execute_result"
    },
    {
     "data": {
      "image/png": "[encoded data removed]",
      "text/plain": [
       "<Figure size 432x288 with 1 Axes>"
      ]
     },
     "metadata": {
      "needs_background": "light"
     },
     "output_type": "display_data"
    }
   ],
   "source": [
    "x_axis=[i for i in range(1,n+1)]                     # residue plot\n",
    "plt.scatter(x_axis,r,color='red')\n",
    "plt.plot(x_axis,[0]*n)"
   ]
  },
  {
   "cell_type": "code",
   "execution_count": null,
   "metadata": {},
   "outputs": [],
   "source": []
  },
  {
   "cell_type": "code",
   "execution_count": 62,
   "metadata": {},
   "outputs": [
    {
     "data": {
      "text/html": [
       "<div>\n",
       "<style scoped>\n",
       "    .dataframe tbody tr th:only-of-type {\n",
       "        vertical-align: middle;\n",
       "    }\n",
       "\n",
       "    .dataframe tbody tr th {\n",
       "        vertical-align: top;\n",
       "    }\n",
       "\n",
       "    .dataframe thead th {\n",
       "        text-align: right;\n",
       "    }\n",
       "</style>\n",
       "<table border=\"1\" class=\"dataframe\">\n",
       "  <thead>\n",
       "    <tr style=\"text-align: right;\">\n",
       "      <th></th>\n",
       "      <th>Gender</th>\n",
       "      <th>Age Range</th>\n",
       "      <th>Head Size(cm^3)</th>\n",
       "      <th>Brain Weight(grams)</th>\n",
       "    </tr>\n",
       "  </thead>\n",
       "  <tbody>\n",
       "    <tr>\n",
       "      <td>0</td>\n",
       "      <td>1</td>\n",
       "      <td>1</td>\n",
       "      <td>4512</td>\n",
       "      <td>1530</td>\n",
       "    </tr>\n",
       "    <tr>\n",
       "      <td>1</td>\n",
       "      <td>1</td>\n",
       "      <td>1</td>\n",
       "      <td>3738</td>\n",
       "      <td>1297</td>\n",
       "    </tr>\n",
       "    <tr>\n",
       "      <td>2</td>\n",
       "      <td>1</td>\n",
       "      <td>1</td>\n",
       "      <td>4261</td>\n",
       "      <td>1335</td>\n",
       "    </tr>\n",
       "    <tr>\n",
       "      <td>3</td>\n",
       "      <td>1</td>\n",
       "      <td>1</td>\n",
       "      <td>3777</td>\n",
       "      <td>1282</td>\n",
       "    </tr>\n",
       "  </tbody>\n",
       "</table>\n",
       "</div>"
      ],
      "text/plain": [
       "   Gender  Age Range  Head Size(cm^3)  Brain Weight(grams)\n",
       "0       1          1             4512                 1530\n",
       "1       1          1             3738                 1297\n",
       "2       1          1             4261                 1335\n",
       "3       1          1             3777                 1282"
      ]
     },
     "execution_count": 62,
     "metadata": {},
     "output_type": "execute_result"
    }
   ],
   "source": [
    "data=pd.read_csv('headbrain.csv')\n",
    "data.head(4)"
   ]
  },
  {
   "cell_type": "code",
   "execution_count": 17,
   "metadata": {},
   "outputs": [],
   "source": [
    "import numpy as np\n",
    "import pandas as pd\n",
    "from sklearn.linear_model import LinearRegression\n",
    "from  sklearn.metrics import mean_squared_error\n",
    "from matplotlib import pyplot as plt"
   ]
  },
  {
   "cell_type": "code",
   "execution_count": 75,
   "metadata": {},
   "outputs": [],
   "source": [
    "x=data['Head Size(cm^3)'].values\n",
    "y=data['Brain Weight(grams)'].values\n",
    "n=len(x)\n",
    "x=x.reshape(n,1)    # as a column vector"
   ]
  },
  {
   "cell_type": "code",
   "execution_count": 19,
   "metadata": {},
   "outputs": [
    {
     "name": "stdout",
     "output_type": "stream",
     "text": [
      "[2.36113937]\n",
      "17.743784333672437\n"
     ]
    }
   ],
   "source": [
    "n=len(x)\n",
    "x=x.reshape(n,1)  \n",
    "reg=LinearRegression()\n",
    "reg = reg.fit(x,y)\n",
    "print(reg.coef_)\n",
    "print(reg.intercept_)"
   ]
  },
  {
   "cell_type": "code",
   "execution_count": 80,
   "metadata": {},
   "outputs": [
    {
     "data": {
      "text/plain": [
       "[<matplotlib.lines.Line2D at 0x2a9af791f08>]"
      ]
     },
     "execution_count": 80,
     "metadata": {},
     "output_type": "execute_result"
    },
    {
     "data": {
      "image/png": "[encoded data removed]",
      "text/plain": [
       "<Figure size 432x288 with 1 Axes>"
      ]
     },
     "metadata": {
      "needs_background": "light"
     },
     "output_type": "display_data"
    }
   ],
   "source": [
    "#model\n",
    "y_pred=reg.predict(x)\n",
    "plt.scatter(x,y,color='red')\n",
    "plt.plot(x,y_pred,color='blue')"
   ]
  },
  {
   "cell_type": "code",
   "execution_count": 20,
   "metadata": {},
   "outputs": [
    {
     "name": "stdout",
     "output_type": "stream",
     "text": [
      "6.757789682809295\n",
      "0.24242685335021374\n"
     ]
    }
   ],
   "source": [
    "#model evaluation\n",
    "from sklearn.metrics import r2_score\n",
    "\n",
    "rmse= np.sqrt(mean_squared_error(y,y_pred))\n",
    "r2=r2_score(y,y_pred)          # R squared value\n",
    "\n",
    "print(rmse)\n",
    "print(r2)"
   ]
  },
  {
   "cell_type": "code",
   "execution_count": null,
   "metadata": {},
   "outputs": [],
   "source": []
  }
 ],
 "metadata": {
  "kernelspec": {
   "display_name": "Python 3",
   "language": "python",
   "name": "python3"
  },
  "language_info": {
   "codemirror_mode": {
    "name": "ipython",
    "version": 3
   },
   "file_extension": ".py",
   "mimetype": "text/x-python",
   "name": "python",
   "nbconvert_exporter": "python",
   "pygments_lexer": "ipython3",
   "version": "3.7.4"
  }
 },
 "nbformat": 4,
 "nbformat_minor": 2
}
